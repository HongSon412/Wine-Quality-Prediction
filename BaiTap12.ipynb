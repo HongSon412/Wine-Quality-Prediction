{
 "cells": [
  {
   "cell_type": "markdown",
   "id": "49273cfe-0b69-4916-8bd7-72da6ccbcada",
   "metadata": {},
   "source": [
    "# Wine Quality Classification"
   ]
  },
  {
   "cell_type": "code",
   "execution_count": 47,
   "id": "18eec3bc",
   "metadata": {
    "id": "YrSKuWGew6p8",
    "papermill": {
     "duration": 1.034571,
     "end_time": "2022-01-26T11:42:03.629191",
     "exception": false,
     "start_time": "2022-01-26T11:42:02.594620",
     "status": "completed"
    },
    "tags": []
   },
   "outputs": [],
   "source": [
    "# Cài đặt một vài thư viện cần thiết\n",
    "import numpy as np\n",
    "import pandas as pd\n",
    "import matplotlib.pyplot as plt"
   ]
  },
  {
   "cell_type": "markdown",
   "id": "1f5d6b1f-4bb7-4c29-8bc2-cb6bdd28ad8f",
   "metadata": {},
   "source": [
    "## 1. Đọc dữ liệu"
   ]
  },
  {
   "cell_type": "code",
   "execution_count": 52,
   "id": "2d74fee1",
   "metadata": {
    "id": "Wj4yAFgvxK0K",
    "outputId": "36a29dac-6ed0-4efa-d67f-bae5af1f5c9e",
    "papermill": {
     "duration": 0.071192,
     "end_time": "2022-01-26T11:42:03.723127",
     "exception": false,
     "start_time": "2022-01-26T11:42:03.651935",
     "status": "completed"
    },
    "tags": []
   },
   "outputs": [
    {
     "data": {
      "text/html": [
       "<div>\n",
       "<style scoped>\n",
       "    .dataframe tbody tr th:only-of-type {\n",
       "        vertical-align: middle;\n",
       "    }\n",
       "\n",
       "    .dataframe tbody tr th {\n",
       "        vertical-align: top;\n",
       "    }\n",
       "\n",
       "    .dataframe thead th {\n",
       "        text-align: right;\n",
       "    }\n",
       "</style>\n",
       "<table border=\"1\" class=\"dataframe\">\n",
       "  <thead>\n",
       "    <tr style=\"text-align: right;\">\n",
       "      <th></th>\n",
       "      <th>fixed acidity</th>\n",
       "      <th>volatile acidity</th>\n",
       "      <th>citric acid</th>\n",
       "      <th>residual sugar</th>\n",
       "      <th>chlorides</th>\n",
       "      <th>free sulfur dioxide</th>\n",
       "      <th>total sulfur dioxide</th>\n",
       "      <th>density</th>\n",
       "      <th>pH</th>\n",
       "      <th>sulphates</th>\n",
       "      <th>alcohol</th>\n",
       "      <th>quality</th>\n",
       "    </tr>\n",
       "  </thead>\n",
       "  <tbody>\n",
       "    <tr>\n",
       "      <th>0</th>\n",
       "      <td>7.4</td>\n",
       "      <td>0.70</td>\n",
       "      <td>0.00</td>\n",
       "      <td>1.9</td>\n",
       "      <td>0.076</td>\n",
       "      <td>11.0</td>\n",
       "      <td>34.0</td>\n",
       "      <td>0.9978</td>\n",
       "      <td>3.51</td>\n",
       "      <td>0.56</td>\n",
       "      <td>9.4</td>\n",
       "      <td>bad</td>\n",
       "    </tr>\n",
       "    <tr>\n",
       "      <th>1</th>\n",
       "      <td>7.8</td>\n",
       "      <td>0.88</td>\n",
       "      <td>0.00</td>\n",
       "      <td>2.6</td>\n",
       "      <td>0.098</td>\n",
       "      <td>25.0</td>\n",
       "      <td>67.0</td>\n",
       "      <td>0.9968</td>\n",
       "      <td>3.20</td>\n",
       "      <td>0.68</td>\n",
       "      <td>9.8</td>\n",
       "      <td>bad</td>\n",
       "    </tr>\n",
       "    <tr>\n",
       "      <th>2</th>\n",
       "      <td>7.8</td>\n",
       "      <td>0.76</td>\n",
       "      <td>0.04</td>\n",
       "      <td>2.3</td>\n",
       "      <td>0.092</td>\n",
       "      <td>15.0</td>\n",
       "      <td>54.0</td>\n",
       "      <td>0.9970</td>\n",
       "      <td>3.26</td>\n",
       "      <td>0.65</td>\n",
       "      <td>9.8</td>\n",
       "      <td>bad</td>\n",
       "    </tr>\n",
       "    <tr>\n",
       "      <th>3</th>\n",
       "      <td>11.2</td>\n",
       "      <td>0.28</td>\n",
       "      <td>0.56</td>\n",
       "      <td>1.9</td>\n",
       "      <td>0.075</td>\n",
       "      <td>17.0</td>\n",
       "      <td>60.0</td>\n",
       "      <td>0.9980</td>\n",
       "      <td>3.16</td>\n",
       "      <td>0.58</td>\n",
       "      <td>9.8</td>\n",
       "      <td>good</td>\n",
       "    </tr>\n",
       "    <tr>\n",
       "      <th>4</th>\n",
       "      <td>7.4</td>\n",
       "      <td>0.70</td>\n",
       "      <td>0.00</td>\n",
       "      <td>1.9</td>\n",
       "      <td>0.076</td>\n",
       "      <td>11.0</td>\n",
       "      <td>34.0</td>\n",
       "      <td>0.9978</td>\n",
       "      <td>3.51</td>\n",
       "      <td>0.56</td>\n",
       "      <td>9.4</td>\n",
       "      <td>bad</td>\n",
       "    </tr>\n",
       "  </tbody>\n",
       "</table>\n",
       "</div>"
      ],
      "text/plain": [
       "   fixed acidity  volatile acidity  citric acid  residual sugar  chlorides  \\\n",
       "0            7.4              0.70         0.00             1.9      0.076   \n",
       "1            7.8              0.88         0.00             2.6      0.098   \n",
       "2            7.8              0.76         0.04             2.3      0.092   \n",
       "3           11.2              0.28         0.56             1.9      0.075   \n",
       "4            7.4              0.70         0.00             1.9      0.076   \n",
       "\n",
       "   free sulfur dioxide  total sulfur dioxide  density    pH  sulphates  \\\n",
       "0                 11.0                  34.0   0.9978  3.51       0.56   \n",
       "1                 25.0                  67.0   0.9968  3.20       0.68   \n",
       "2                 15.0                  54.0   0.9970  3.26       0.65   \n",
       "3                 17.0                  60.0   0.9980  3.16       0.58   \n",
       "4                 11.0                  34.0   0.9978  3.51       0.56   \n",
       "\n",
       "   alcohol quality  \n",
       "0      9.4     bad  \n",
       "1      9.8     bad  \n",
       "2      9.8     bad  \n",
       "3      9.8    good  \n",
       "4      9.4     bad  "
      ]
     },
     "execution_count": 52,
     "metadata": {},
     "output_type": "execute_result"
    }
   ],
   "source": [
    "# Đọc dữ liệu\n",
    "df = pd.read_csv(\"wine.csv\")\n",
    "# Xuất ra 5 dòng dữ liệu đầu tiên\n",
    "df.head()"
   ]
  },
  {
   "cell_type": "code",
   "execution_count": 49,
   "id": "e7d96f87",
   "metadata": {
    "id": "2NcwalMxxpsL",
    "outputId": "48161248-f3d3-4daa-e705-584b94d59490",
    "papermill": {
     "duration": 0.030651,
     "end_time": "2022-01-26T11:42:03.777031",
     "exception": false,
     "start_time": "2022-01-26T11:42:03.746380",
     "status": "completed"
    },
    "tags": []
   },
   "outputs": [
    {
     "data": {
      "text/plain": [
       "(1599, 12)"
      ]
     },
     "execution_count": 49,
     "metadata": {},
     "output_type": "execute_result"
    }
   ],
   "source": [
    "# Hình dạng của dữ liệu\n",
    "df.shape"
   ]
  },
  {
   "cell_type": "code",
   "execution_count": 51,
   "id": "a0004b80",
   "metadata": {
    "id": "-hH1eq5ix9z-",
    "outputId": "29b6430e-8b68-4202-e448-a66a9ba15f76",
    "papermill": {
     "duration": 0.048274,
     "end_time": "2022-01-26T11:42:03.848377",
     "exception": false,
     "start_time": "2022-01-26T11:42:03.800103",
     "status": "completed"
    },
    "tags": []
   },
   "outputs": [
    {
     "name": "stdout",
     "output_type": "stream",
     "text": [
      "<class 'pandas.core.frame.DataFrame'>\n",
      "RangeIndex: 1599 entries, 0 to 1598\n",
      "Data columns (total 12 columns):\n",
      " #   Column                Non-Null Count  Dtype  \n",
      "---  ------                --------------  -----  \n",
      " 0   fixed acidity         1599 non-null   float64\n",
      " 1   volatile acidity      1599 non-null   float64\n",
      " 2   citric acid           1599 non-null   float64\n",
      " 3   residual sugar        1599 non-null   float64\n",
      " 4   chlorides             1599 non-null   float64\n",
      " 5   free sulfur dioxide   1599 non-null   float64\n",
      " 6   total sulfur dioxide  1599 non-null   float64\n",
      " 7   density               1599 non-null   float64\n",
      " 8   pH                    1599 non-null   float64\n",
      " 9   sulphates             1599 non-null   float64\n",
      " 10  alcohol               1599 non-null   float64\n",
      " 11  quality               1599 non-null   object \n",
      "dtypes: float64(11), object(1)\n",
      "memory usage: 150.0+ KB\n"
     ]
    }
   ],
   "source": [
    "# Thông tin chi tiết về dữ liệu\n",
    "df.info()"
   ]
  },
  {
   "cell_type": "markdown",
   "id": "b87f4a40-2d27-47c6-b8d0-9cd9e5d6ebf0",
   "metadata": {},
   "source": [
    "## 2. Xử lý dữ liệu"
   ]
  },
  {
   "cell_type": "code",
   "execution_count": 53,
   "id": "fe026a20",
   "metadata": {
    "id": "23_gaQZFymmj",
    "outputId": "f8615004-4ca0-46b0-e83e-cb564875704e",
    "papermill": {
     "duration": 0.047907,
     "end_time": "2022-01-26T11:42:03.969177",
     "exception": false,
     "start_time": "2022-01-26T11:42:03.921270",
     "status": "completed"
    },
    "tags": []
   },
   "outputs": [
    {
     "data": {
      "text/html": [
       "<div>\n",
       "<style scoped>\n",
       "    .dataframe tbody tr th:only-of-type {\n",
       "        vertical-align: middle;\n",
       "    }\n",
       "\n",
       "    .dataframe tbody tr th {\n",
       "        vertical-align: top;\n",
       "    }\n",
       "\n",
       "    .dataframe thead th {\n",
       "        text-align: right;\n",
       "    }\n",
       "</style>\n",
       "<table border=\"1\" class=\"dataframe\">\n",
       "  <thead>\n",
       "    <tr style=\"text-align: right;\">\n",
       "      <th></th>\n",
       "      <th>fixed acidity</th>\n",
       "      <th>volatile acidity</th>\n",
       "      <th>citric acid</th>\n",
       "      <th>residual sugar</th>\n",
       "      <th>chlorides</th>\n",
       "      <th>free sulfur dioxide</th>\n",
       "      <th>total sulfur dioxide</th>\n",
       "      <th>density</th>\n",
       "      <th>pH</th>\n",
       "      <th>sulphates</th>\n",
       "      <th>alcohol</th>\n",
       "      <th>quality</th>\n",
       "      <th>quality_cat</th>\n",
       "    </tr>\n",
       "  </thead>\n",
       "  <tbody>\n",
       "    <tr>\n",
       "      <th>0</th>\n",
       "      <td>7.4</td>\n",
       "      <td>0.70</td>\n",
       "      <td>0.00</td>\n",
       "      <td>1.9</td>\n",
       "      <td>0.076</td>\n",
       "      <td>11.0</td>\n",
       "      <td>34.0</td>\n",
       "      <td>0.9978</td>\n",
       "      <td>3.51</td>\n",
       "      <td>0.56</td>\n",
       "      <td>9.4</td>\n",
       "      <td>bad</td>\n",
       "      <td>0</td>\n",
       "    </tr>\n",
       "    <tr>\n",
       "      <th>1</th>\n",
       "      <td>7.8</td>\n",
       "      <td>0.88</td>\n",
       "      <td>0.00</td>\n",
       "      <td>2.6</td>\n",
       "      <td>0.098</td>\n",
       "      <td>25.0</td>\n",
       "      <td>67.0</td>\n",
       "      <td>0.9968</td>\n",
       "      <td>3.20</td>\n",
       "      <td>0.68</td>\n",
       "      <td>9.8</td>\n",
       "      <td>bad</td>\n",
       "      <td>0</td>\n",
       "    </tr>\n",
       "    <tr>\n",
       "      <th>2</th>\n",
       "      <td>7.8</td>\n",
       "      <td>0.76</td>\n",
       "      <td>0.04</td>\n",
       "      <td>2.3</td>\n",
       "      <td>0.092</td>\n",
       "      <td>15.0</td>\n",
       "      <td>54.0</td>\n",
       "      <td>0.9970</td>\n",
       "      <td>3.26</td>\n",
       "      <td>0.65</td>\n",
       "      <td>9.8</td>\n",
       "      <td>bad</td>\n",
       "      <td>0</td>\n",
       "    </tr>\n",
       "    <tr>\n",
       "      <th>3</th>\n",
       "      <td>11.2</td>\n",
       "      <td>0.28</td>\n",
       "      <td>0.56</td>\n",
       "      <td>1.9</td>\n",
       "      <td>0.075</td>\n",
       "      <td>17.0</td>\n",
       "      <td>60.0</td>\n",
       "      <td>0.9980</td>\n",
       "      <td>3.16</td>\n",
       "      <td>0.58</td>\n",
       "      <td>9.8</td>\n",
       "      <td>good</td>\n",
       "      <td>1</td>\n",
       "    </tr>\n",
       "    <tr>\n",
       "      <th>4</th>\n",
       "      <td>7.4</td>\n",
       "      <td>0.70</td>\n",
       "      <td>0.00</td>\n",
       "      <td>1.9</td>\n",
       "      <td>0.076</td>\n",
       "      <td>11.0</td>\n",
       "      <td>34.0</td>\n",
       "      <td>0.9978</td>\n",
       "      <td>3.51</td>\n",
       "      <td>0.56</td>\n",
       "      <td>9.4</td>\n",
       "      <td>bad</td>\n",
       "      <td>0</td>\n",
       "    </tr>\n",
       "  </tbody>\n",
       "</table>\n",
       "</div>"
      ],
      "text/plain": [
       "   fixed acidity  volatile acidity  citric acid  residual sugar  chlorides  \\\n",
       "0            7.4              0.70         0.00             1.9      0.076   \n",
       "1            7.8              0.88         0.00             2.6      0.098   \n",
       "2            7.8              0.76         0.04             2.3      0.092   \n",
       "3           11.2              0.28         0.56             1.9      0.075   \n",
       "4            7.4              0.70         0.00             1.9      0.076   \n",
       "\n",
       "   free sulfur dioxide  total sulfur dioxide  density    pH  sulphates  \\\n",
       "0                 11.0                  34.0   0.9978  3.51       0.56   \n",
       "1                 25.0                  67.0   0.9968  3.20       0.68   \n",
       "2                 15.0                  54.0   0.9970  3.26       0.65   \n",
       "3                 17.0                  60.0   0.9980  3.16       0.58   \n",
       "4                 11.0                  34.0   0.9978  3.51       0.56   \n",
       "\n",
       "   alcohol quality  quality_cat  \n",
       "0      9.4     bad            0  \n",
       "1      9.8     bad            0  \n",
       "2      9.8     bad            0  \n",
       "3      9.8    good            1  \n",
       "4      9.4     bad            0  "
      ]
     },
     "execution_count": 53,
     "metadata": {},
     "output_type": "execute_result"
    }
   ],
   "source": [
    "# Mã hóa biến phân loại\n",
    "df['quality_cat'] = df['quality'].astype('category').cat.codes\n",
    "df.head()"
   ]
  },
  {
   "cell_type": "code",
   "execution_count": 54,
   "id": "ea4b14f4",
   "metadata": {
    "id": "9Q4tufgs0MYZ",
    "outputId": "d9d59c45-936a-44a8-fa81-beda79594029",
    "papermill": {
     "duration": 0.115115,
     "end_time": "2022-01-26T11:43:05.400520",
     "exception": false,
     "start_time": "2022-01-26T11:43:05.285405",
     "status": "completed"
    },
    "tags": []
   },
   "outputs": [
    {
     "name": "stdout",
     "output_type": "stream",
     "text": [
      "<class 'pandas.core.frame.DataFrame'>\n",
      "RangeIndex: 1599 entries, 0 to 1598\n",
      "Data columns (total 12 columns):\n",
      " #   Column                Non-Null Count  Dtype  \n",
      "---  ------                --------------  -----  \n",
      " 0   fixed acidity         1599 non-null   float64\n",
      " 1   volatile acidity      1599 non-null   float64\n",
      " 2   citric acid           1599 non-null   float64\n",
      " 3   residual sugar        1599 non-null   float64\n",
      " 4   chlorides             1599 non-null   float64\n",
      " 5   free sulfur dioxide   1599 non-null   float64\n",
      " 6   total sulfur dioxide  1599 non-null   float64\n",
      " 7   density               1599 non-null   float64\n",
      " 8   pH                    1599 non-null   float64\n",
      " 9   sulphates             1599 non-null   float64\n",
      " 10  alcohol               1599 non-null   float64\n",
      " 11  quality_cat           1599 non-null   int8   \n",
      "dtypes: float64(11), int8(1)\n",
      "memory usage: 139.1 KB\n"
     ]
    }
   ],
   "source": [
    "# Xóa cột dữ liệu quality\n",
    "df1 = df.drop('quality',axis=1)\n",
    "df1.info()"
   ]
  },
  {
   "cell_type": "code",
   "execution_count": 55,
   "id": "6adec80f",
   "metadata": {
    "id": "qdCxjjew0gxj",
    "papermill": {
     "duration": 0.106426,
     "end_time": "2022-01-26T11:43:05.604302",
     "exception": false,
     "start_time": "2022-01-26T11:43:05.497876",
     "status": "completed"
    },
    "tags": []
   },
   "outputs": [],
   "source": [
    "# Xóa cột dữ liệu quality_cat \n",
    "X = df1.drop('quality_cat',axis=1)\n",
    "Y = df1['quality_cat']"
   ]
  },
  {
   "cell_type": "code",
   "execution_count": 56,
   "id": "d275c1e8",
   "metadata": {
    "id": "qpOgdYJw0nVu",
    "outputId": "1c116674-2f81-4382-f271-513c3ad70e9b",
    "papermill": {
     "duration": 0.107685,
     "end_time": "2022-01-26T11:43:05.809455",
     "exception": false,
     "start_time": "2022-01-26T11:43:05.701770",
     "status": "completed"
    },
    "tags": []
   },
   "outputs": [
    {
     "data": {
      "text/plain": [
       "0    0\n",
       "1    0\n",
       "2    0\n",
       "3    1\n",
       "4    0\n",
       "Name: quality_cat, dtype: int8"
      ]
     },
     "execution_count": 56,
     "metadata": {},
     "output_type": "execute_result"
    }
   ],
   "source": [
    "#Xem dữ liệu của Y\n",
    "Y.head()"
   ]
  },
  {
   "cell_type": "code",
   "execution_count": 57,
   "id": "9381c899",
   "metadata": {
    "id": "tiW_y6Z00rbu",
    "papermill": {
     "duration": 0.288557,
     "end_time": "2022-01-26T11:43:06.196631",
     "exception": false,
     "start_time": "2022-01-26T11:43:05.908074",
     "status": "completed"
    },
    "tags": []
   },
   "outputs": [],
   "source": [
    "# Chia dữ liệu cho tập train và test\n",
    "from sklearn.model_selection import train_test_split\n",
    "\n",
    "X_train, X_test, y_train, y_test = train_test_split(X, Y,test_size=0.2,random_state=0)"
   ]
  },
  {
   "cell_type": "code",
   "execution_count": 58,
   "id": "6a4c8d91",
   "metadata": {
    "id": "Ml48y8bTFigF",
    "outputId": "bb1248d6-8370-4cb6-e37d-588c91ab33ed",
    "papermill": {
     "duration": 0.128698,
     "end_time": "2022-01-26T11:43:06.424726",
     "exception": false,
     "start_time": "2022-01-26T11:43:06.296028",
     "status": "completed"
    },
    "tags": []
   },
   "outputs": [
    {
     "name": "stdout",
     "output_type": "stream",
     "text": [
      "(1279, 11)\n",
      "(320, 11)\n",
      "(1279,)\n",
      "(320,)\n"
     ]
    }
   ],
   "source": [
    "# Xuất hình dạng của các biến X_train, X_test, y_train, y_test\n",
    "\n",
    "print(X_train.shape)\n",
    "print(X_test.shape)\n",
    "print(y_train.shape)\n",
    "print(y_test.shape)"
   ]
  },
  {
   "cell_type": "markdown",
   "id": "8e04d8db",
   "metadata": {
    "id": "onw9_iyj0vF_",
    "papermill": {
     "duration": 0.098388,
     "end_time": "2022-01-26T11:43:06.622361",
     "exception": false,
     "start_time": "2022-01-26T11:43:06.523973",
     "status": "completed"
    },
    "tags": []
   },
   "source": [
    "## 3. Xây dựng và huấn luyện mô hình"
   ]
  },
  {
   "cell_type": "code",
   "execution_count": 59,
   "id": "08c8ad57",
   "metadata": {
    "id": "sGM1IyPX0uD9",
    "papermill": {
     "duration": 0.182697,
     "end_time": "2022-01-26T11:43:06.903955",
     "exception": false,
     "start_time": "2022-01-26T11:43:06.721258",
     "status": "completed"
    },
    "tags": []
   },
   "outputs": [],
   "source": [
    "# Cài đặt thư viện LogisticRegression và StandardScaler\n",
    "from sklearn.linear_model import LogisticRegression \n",
    "from sklearn.preprocessing import StandardScaler"
   ]
  },
  {
   "cell_type": "code",
   "execution_count": 60,
   "id": "6483ff76",
   "metadata": {
    "id": "ekeh8xD-1Ynh",
    "papermill": {
     "duration": 0.114608,
     "end_time": "2022-01-26T11:43:07.118506",
     "exception": false,
     "start_time": "2022-01-26T11:43:07.003898",
     "status": "completed"
    },
    "tags": []
   },
   "outputs": [],
   "source": [
    "# Chuẩn hóa dữ liệu\n",
    "sc = StandardScaler()\n",
    "X_train = sc.fit_transform(X_train)\n",
    "X_test = sc.transform(X_test)"
   ]
  },
  {
   "cell_type": "code",
   "execution_count": 61,
   "id": "ea021576",
   "metadata": {
    "id": "ReFjoqLJ1VOK",
    "papermill": {
     "duration": 0.126991,
     "end_time": "2022-01-26T11:43:07.344151",
     "exception": false,
     "start_time": "2022-01-26T11:43:07.217160",
     "status": "completed"
    },
    "tags": []
   },
   "outputs": [],
   "source": [
    "# Huấn luyện mô hình\n",
    "lr = LogisticRegression()\n",
    "lr.fit(X_train ,y_train)\n",
    "y_pred = lr.predict(X_test)"
   ]
  },
  {
   "cell_type": "code",
   "execution_count": 40,
   "id": "95397366",
   "metadata": {
    "id": "aOK7WNa73bEv",
    "papermill": {
     "duration": 0.109161,
     "end_time": "2022-01-26T11:43:08.035204",
     "exception": false,
     "start_time": "2022-01-26T11:43:07.926043",
     "status": "completed"
    },
    "tags": []
   },
   "outputs": [],
   "source": [
    "y_pred = np.where(y_pred>0.5,1,0)"
   ]
  },
  {
   "cell_type": "code",
   "execution_count": 41,
   "id": "7a73eefb",
   "metadata": {
    "id": "vzawnqPkKoWf",
    "outputId": "07afd66b-48ec-4ed7-e5e9-0e01fad2c403",
    "papermill": {
     "duration": 0.109962,
     "end_time": "2022-01-26T11:43:08.245335",
     "exception": false,
     "start_time": "2022-01-26T11:43:08.135373",
     "status": "completed"
    },
    "scrolled": true,
    "tags": []
   },
   "outputs": [
    {
     "data": {
      "text/plain": [
       "array([1, 0, 1, 0, 1, 0, 0, 1, 0, 0, 0, 0, 1, 0, 1, 1, 1, 1, 1, 0, 1, 0,\n",
       "       1, 1, 0, 0, 0, 1, 0, 1, 1, 1, 1, 0, 1, 1, 0, 1, 1, 1, 0, 1, 1, 1,\n",
       "       1, 0, 0, 1, 0, 1, 0, 0, 1, 1, 1, 0, 0, 0, 1, 0, 0, 1, 1, 1, 0, 1,\n",
       "       0, 1, 1, 1, 0, 0, 0, 0, 1, 1, 0, 0, 1, 1, 1, 0, 1, 1, 1, 0, 1, 0,\n",
       "       0, 0, 0, 0, 1, 0, 1, 0, 1, 0, 0, 1, 1, 1, 1, 1, 1, 0, 1, 0, 1, 0,\n",
       "       1, 0, 1, 0, 1, 1, 1, 1, 1, 1, 0, 1, 0, 0, 1, 1, 0, 0, 1, 1, 0, 0,\n",
       "       1, 1, 1, 0, 1, 0, 1, 0, 1, 0, 0, 0, 1, 1, 1, 1, 1, 0, 1, 1, 0, 1,\n",
       "       1, 0, 0, 0, 1, 1, 1, 1, 1, 0, 1, 0, 1, 1, 0, 1, 1, 0, 0, 1, 1, 1,\n",
       "       1, 1, 1, 0, 0, 1, 0, 1, 1, 0, 1, 1, 0, 1, 1, 1, 0, 0, 0, 0, 0, 0,\n",
       "       0, 0, 0, 1, 0, 0, 0, 0, 0, 1, 1, 0, 1, 1, 0, 1, 0, 0, 1, 1, 1, 0,\n",
       "       0, 1, 1, 1, 0, 1, 1, 1, 0, 0, 0, 1, 0, 1, 1, 1, 1, 1, 1, 1, 0, 0,\n",
       "       0, 0, 1, 0, 0, 0, 0, 1, 0, 0, 0, 0, 1, 0, 0, 0, 0, 0, 0, 1, 0, 1,\n",
       "       0, 0, 0, 0, 1, 1, 1, 1, 1, 1, 1, 1, 1, 0, 1, 1, 0, 1, 1, 1, 1, 0,\n",
       "       0, 0, 1, 1, 1, 0, 1, 0, 0, 1, 0, 0, 0, 0, 1, 0, 0, 1, 1, 1, 0, 0,\n",
       "       0, 0, 1, 1, 0, 0, 0, 1, 1, 1, 0, 1])"
      ]
     },
     "execution_count": 41,
     "metadata": {},
     "output_type": "execute_result"
    }
   ],
   "source": [
    "y_pred"
   ]
  },
  {
   "cell_type": "markdown",
   "id": "cbbc6314-4422-4dfa-ab31-662af367fe81",
   "metadata": {},
   "source": [
    "## 4. Đánh giá mô hình"
   ]
  },
  {
   "cell_type": "code",
   "execution_count": 62,
   "id": "6dbda6b0-6039-4e65-a859-de6668604f33",
   "metadata": {},
   "outputs": [
    {
     "data": {
      "text/plain": [
       "0.75"
      ]
     },
     "execution_count": 62,
     "metadata": {},
     "output_type": "execute_result"
    }
   ],
   "source": [
    "# Tính độ chính xác \n",
    "from sklearn.metrics import accuracy_score\n",
    "from sklearn import metrics\n",
    "metrics.accuracy_score(y_test,y_pred)"
   ]
  },
  {
   "cell_type": "code",
   "execution_count": 63,
   "id": "a338e748",
   "metadata": {
    "id": "0EAvdnM03bWP",
    "outputId": "67f5180d-50f5-432d-96e1-79ccfa24952f",
    "papermill": {
     "duration": 0.128161,
     "end_time": "2022-01-26T11:43:08.940459",
     "exception": false,
     "start_time": "2022-01-26T11:43:08.812298",
     "status": "completed"
    },
    "scrolled": true,
    "tags": []
   },
   "outputs": [
    {
     "name": "stdout",
     "output_type": "stream",
     "text": [
      "              precision    recall  f1-score   support\n",
      "\n",
      "         Bad       0.73      0.74      0.73       148\n",
      "        Good       0.77      0.76      0.77       172\n",
      "\n",
      "    accuracy                           0.75       320\n",
      "   macro avg       0.75      0.75      0.75       320\n",
      "weighted avg       0.75      0.75      0.75       320\n",
      "\n"
     ]
    }
   ],
   "source": [
    "# Tạo báo cáo phân loại\n",
    "from sklearn.metrics import classification_report\n",
    "target_names = ['Bad', 'Good']\n",
    "print(classification_report(y_test, y_pred, target_names=target_names))"
   ]
  }
 ],
 "metadata": {
  "kernelspec": {
   "display_name": "Python 3 (ipykernel)",
   "language": "python",
   "name": "python3"
  },
  "language_info": {
   "codemirror_mode": {
    "name": "ipython",
    "version": 3
   },
   "file_extension": ".py",
   "mimetype": "text/x-python",
   "name": "python",
   "nbconvert_exporter": "python",
   "pygments_lexer": "ipython3",
   "version": "3.12.6"
  },
  "papermill": {
   "default_parameters": {},
   "duration": 81.163123,
   "end_time": "2022-01-26T11:43:13.904678",
   "environment_variables": {},
   "exception": null,
   "input_path": "__notebook__.ipynb",
   "output_path": "__notebook__.ipynb",
   "parameters": {},
   "start_time": "2022-01-26T11:41:52.741555",
   "version": "2.3.3"
  }
 },
 "nbformat": 4,
 "nbformat_minor": 5
}
